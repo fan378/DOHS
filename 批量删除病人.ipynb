{
 "cells": [
  {
   "cell_type": "code",
   "execution_count": 2,
   "metadata": {},
   "outputs": [
    {
     "name": "stdout",
     "output_type": "stream",
     "text": [
      "88\n",
      "88\n"
     ]
    }
   ],
   "source": [
    "import os\n",
    "import shutil\n",
    "import numpy as np\n",
    "\n",
    "# 删除文件夹\n",
    "def delete_dir(dir_path):\n",
    "    if os.path.exists(dir_path):\n",
    "        shutil.rmtree(dir_path)\n",
    "        \n",
    "# 删除案例\n",
    "def delete_patient(keshi,processed_out_dir,ins_out_dir,model_generated_path,doctor_generated_path,key_id):\n",
    "    delete_dir(f'./{model_generated_path}/{keshi}/{key_id}')\n",
    "    delete_dir(f'./{doctor_generated_path}/{keshi}/{key_id}')\n",
    "    delete_dir(f'./{processed_out_dir}/{keshi}/{key_id}')\n",
    "    delete_dir(f'./{ins_out_dir}/{keshi}/{key_id}')\n",
    "\n",
    "\n",
    "keshi = 'ruxianwaike'\n",
    "zylshs = np.loadtxt(f'./流水号/{keshi}_新增源文件流水号.csv', delimiter=',',dtype='str')\n",
    "processed_dir= './processed'\n",
    "ins_out_dir='./instructions'\n",
    "generate_out_dir='./model_generated_test'\n",
    "doctor_dir= './doctor_generated'\n",
    "for zylsh in os.listdir(os.path.join(generate_out_dir,keshi)):\n",
    "    if zylsh not in zylshs:\n",
    "        delete_patient(keshi,processed_dir,ins_out_dir,generate_out_dir,doctor_dir,zylsh)\n",
    "\n",
    "print(len(zylshs))\n",
    "print(len(os.listdir(os.path.join(generate_out_dir,keshi))))"
   ]
  }
 ],
 "metadata": {
  "kernelspec": {
   "display_name": "llama_factory",
   "language": "python",
   "name": "python3"
  },
  "language_info": {
   "codemirror_mode": {
    "name": "ipython",
    "version": 3
   },
   "file_extension": ".py",
   "mimetype": "text/x-python",
   "name": "python",
   "nbconvert_exporter": "python",
   "pygments_lexer": "ipython3",
   "version": "3.10.13"
  }
 },
 "nbformat": 4,
 "nbformat_minor": 2
}
